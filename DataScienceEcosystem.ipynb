{
 "cells": [
  {
   "cell_type": "markdown",
   "id": "1640cc5b",
   "metadata": {},
   "source": [
    "# Data Science Tools and Ecosystem"
   ]
  },
  {
   "cell_type": "markdown",
   "id": "11a25d8d",
   "metadata": {},
   "source": [
    "In this notebook, Data Science Tools and Ecosystem are summarized."
   ]
  },
  {
   "cell_type": "markdown",
   "id": "aac4aa27",
   "metadata": {},
   "source": [
    "**Objectives:**\n",
    "\n",
    "+ some of the popular Data Science languages\n",
    "+ some commonly used Data Science libraries\n",
    "+ Data Science tools"
   ]
  },
  {
   "cell_type": "markdown",
   "id": "40a68efd",
   "metadata": {},
   "source": [
    "## Author\n",
    "\n",
    "Sahngyoon Rhee"
   ]
  },
  {
   "cell_type": "markdown",
   "id": "683461ce",
   "metadata": {},
   "source": [
    "Some of the popular languages that Data Scientists use are:\n",
    "\n",
    "1. Python\n",
    "2. R\n",
    "3. Julia"
   ]
  },
  {
   "cell_type": "markdown",
   "id": "08ea8856",
   "metadata": {},
   "source": [
    "Some of the commonly used libraries used by Data Scientists include:\n",
    "\n",
    "1. Numpy\n",
    "2. Matplotlib\n",
    "3. PyTorch"
   ]
  },
  {
   "cell_type": "markdown",
   "id": "606e23d3",
   "metadata": {},
   "source": [
    "|Data Science Tools|\n",
    "|------|\n",
    "|RStudio|\n",
    "|Visual Studio Code|\n",
    "|Jupyter Notebook|"
   ]
  },
  {
   "cell_type": "markdown",
   "id": "d08dbc5f",
   "metadata": {},
   "source": [
    "### Below are a few examples of evaluating arithmetic expressions in Python"
   ]
  },
  {
   "cell_type": "code",
   "execution_count": 2,
   "id": "22e203ff",
   "metadata": {},
   "outputs": [
    {
     "data": {
      "text/plain": [
       "17"
      ]
     },
     "execution_count": 2,
     "metadata": {},
     "output_type": "execute_result"
    }
   ],
   "source": [
    "#This a simple arithmetic expression to mutiply then add integers\n",
    "(3*4) + 5"
   ]
  },
  {
   "cell_type": "code",
   "execution_count": 5,
   "id": "971b4e07",
   "metadata": {},
   "outputs": [
    {
     "name": "stdout",
     "output_type": "stream",
     "text": [
      "200 minutes is 3.3333333333333335 hours\n"
     ]
    }
   ],
   "source": [
    "#This will convert 200 minutes to hours by diving by 60\n",
    "200/60\n",
    "print(\"200 minutes is \" + str(200/60) + \" hours\")"
   ]
  },
  {
   "cell_type": "code",
   "execution_count": null,
   "id": "3fde8121",
   "metadata": {},
   "outputs": [],
   "source": []
  }
 ],
 "metadata": {
  "kernelspec": {
   "display_name": "Python 3 (ipykernel)",
   "language": "python",
   "name": "python3"
  },
  "language_info": {
   "codemirror_mode": {
    "name": "ipython",
    "version": 3
   },
   "file_extension": ".py",
   "mimetype": "text/x-python",
   "name": "python",
   "nbconvert_exporter": "python",
   "pygments_lexer": "ipython3",
   "version": "3.9.13"
  }
 },
 "nbformat": 4,
 "nbformat_minor": 5
}
